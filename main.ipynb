{
 "cells": [
  {
   "cell_type": "markdown",
   "metadata": {},
   "source": [
    "## Import The Necessary Libraries"
   ]
  },
  {
   "cell_type": "code",
   "execution_count": 2,
   "metadata": {},
   "outputs": [],
   "source": [
    "from sklearn.datasets import load_breast_cancer, load_iris, load_wine\n",
    "from sklearn.model_selection import train_test_split\n",
    "from sklearn.linear_model import LogisticRegression\n",
    "from sklearn.naive_bayes import GaussianNB\n",
    "from sklearn.neighbors import KNeighborsClassifier\n",
    "from sklearn.tree import DecisionTreeClassifier\n",
    "from sklearn.svm import SVC\n",
    "from tabpfn import TabPFNClassifier\n",
    "from sklearn.preprocessing import StandardScaler\n",
    "from sklearn.metrics import accuracy_score\n",
    "import pandas as pd\n",
    "import time\n",
    "import plotly.express as px"
   ]
  },
  {
   "cell_type": "markdown",
   "metadata": {},
   "source": [
    "## Load Datasets"
   ]
  },
  {
   "cell_type": "code",
   "execution_count": 3,
   "metadata": {},
   "outputs": [],
   "source": [
    "# Load datasets dynamically\n",
    "datasets = {\n",
    "    \"breast_cancer\": load_breast_cancer(return_X_y=True),\n",
    "    \"iris\": load_iris(return_X_y=True),\n",
    "    \"wine\": load_wine(return_X_y=True)\n",
    "}"
   ]
  },
  {
   "cell_type": "markdown",
   "metadata": {},
   "source": [
    "## Define Models"
   ]
  },
  {
   "cell_type": "code",
   "execution_count": 4,
   "metadata": {},
   "outputs": [],
   "source": [
    "models = {\n",
    "    \"LogisticRegression\": LogisticRegression(random_state=42, max_iter=1000),\n",
    "    \"GaussianNB\": GaussianNB(),\n",
    "    \"k-Nearest Neighbor\": KNeighborsClassifier(n_neighbors=5),\n",
    "    \"DecisionTree\": DecisionTreeClassifier(random_state=42),\n",
    "    \"SVM\": SVC(kernel=\"rbf\", random_state=42),\n",
    "    \"TabPFNClassifier\": TabPFNClassifier()\n",
    "}"
   ]
  },
  {
   "cell_type": "markdown",
   "metadata": {},
   "source": [
    "## Model Evaluation Loop: Measuring Accuracy, Fit Time, and Predict Time"
   ]
  },
  {
   "cell_type": "code",
   "execution_count": null,
   "metadata": {},
   "outputs": [],
   "source": [
    "# Initialize results\n",
    "results = []\n",
    "\n",
    "# Iterate through datasets\n",
    "for dataset_name, (X, y) in datasets.items():\n",
    "    # Split each dataset into training and testing sets\n",
    "    X_train, X_test, y_train, y_test = train_test_split(X, y, test_size=0.33, random_state=42)\n",
    "    \n",
    "    # Standardize features for models sensitive to scaling\n",
    "    scaler = StandardScaler()\n",
    "    X_train_scaled = scaler.fit_transform(X_train)\n",
    "    X_test_scaled = scaler.transform(X_test)\n",
    "    \n",
    "    # Iterate through models\n",
    "    for model_name, model in models.items():\n",
    "        # Measure time to fit the model\n",
    "        start_fit = time.time()\n",
    "        if model_name in [\"LogisticRegression\", \"k-Nearest Neighbor\", \"SVM\"]:\n",
    "            model.fit(X_train_scaled, y_train)\n",
    "        else:\n",
    "            model.fit(X_train, y_train)\n",
    "        end_fit = time.time()\n",
    "        fit_time = (end_fit - start_fit) * 1000  # Convert to milliseconds\n",
    "        \n",
    "        # Measure time to predict\n",
    "        start_predict = time.time()\n",
    "        if model_name in [\"LogisticRegression\", \"k-Nearest Neighbor\", \"SVM\"]:\n",
    "            predictions = model.predict(X_test_scaled)\n",
    "        else:\n",
    "            predictions = model.predict(X_test)\n",
    "        end_predict = time.time()\n",
    "        predict_time = (end_predict - start_predict) * 1000  # Convert to milliseconds\n",
    "        \n",
    "        # Evaluate Accuracy\n",
    "        accuracy = accuracy_score(y_test, predictions)\n",
    "        \n",
    "        # Store the results\n",
    "        results.append({\n",
    "            \"Dataset\": dataset_name,\n",
    "            \"Model\": model_name,\n",
    "            \"Accuracy\": accuracy,\n",
    "            \"Fit Time (ms)\": fit_time,\n",
    "            \"Predict Time (ms)\": predict_time\n",
    "        })\n"
   ]
  },
  {
   "cell_type": "markdown",
   "metadata": {},
   "source": [
    "## Show The Results As a Dataframe"
   ]
  },
  {
   "cell_type": "code",
   "execution_count": null,
   "metadata": {},
   "outputs": [],
   "source": [
    "# Convert results to a DataFrame\n",
    "results_df = pd.DataFrame(results)\n",
    "results_df"
   ]
  },
  {
   "cell_type": "markdown",
   "metadata": {},
   "source": [
    "## Plot The Results "
   ]
  },
  {
   "cell_type": "code",
   "execution_count": null,
   "metadata": {},
   "outputs": [],
   "source": [
    "# Plot accuracy for all datasets and models in a single graph\n",
    "fig_accuracy = px.line(results_df, x=\"Model\", y=\"Accuracy\", color=\"Dataset\", markers=True,\n",
    "                       title=\"Model Accuracy Across Datasets\",\n",
    "                       labels={\"Accuracy\": \"Accuracy\", \"Model\": \"Model\", \"Dataset\": \"Dataset\"})\n",
    "fig_accuracy.update_layout(title_x=0.5, xaxis_title=\"Model\", yaxis_title=\"Accuracy\", font=dict(size=14))\n",
    "fig_accuracy.show()\n",
    "\n",
    "# Plot fit time and predict time for all datasets and models in a single graph\n",
    "fig_time = px.line(results_df.melt(id_vars=[\"Dataset\", \"Model\"], value_vars=[\"Fit Time (ms)\", \"Predict Time (ms)\"]),\n",
    "                   x=\"Model\", y=\"value\", color=\"variable\", line_group=\"Dataset\",\n",
    "                   title=\"Model Fit and Predict Time Across Datasets (ms)\",\n",
    "                   labels={\"value\": \"Time (ms)\", \"Model\": \"Model\", \"variable\": \"Metric\"})\n",
    "fig_time.update_layout(title_x=0.5, xaxis_title=\"Model\", yaxis_title=\"Time (ms)\", font=dict(size=14))\n",
    "fig_time.show()"
   ]
  }
 ],
 "metadata": {
  "kernelspec": {
   "display_name": "wakeb2",
   "language": "python",
   "name": "python3"
  },
  "language_info": {
   "codemirror_mode": {
    "name": "ipython",
    "version": 3
   },
   "file_extension": ".py",
   "mimetype": "text/x-python",
   "name": "python",
   "nbconvert_exporter": "python",
   "pygments_lexer": "ipython3",
   "version": "3.8.5"
  }
 },
 "nbformat": 4,
 "nbformat_minor": 2
}
